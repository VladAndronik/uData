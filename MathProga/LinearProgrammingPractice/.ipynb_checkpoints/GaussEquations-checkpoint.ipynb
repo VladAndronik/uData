{
 "cells": [
  {
   "cell_type": "code",
   "execution_count": 17,
   "metadata": {
    "collapsed": true
   },
   "outputs": [],
   "source": [
    "import numpy as np\n",
    "import copy"
   ]
  },
  {
   "cell_type": "code",
   "execution_count": 45,
   "metadata": {
    "collapsed": true
   },
   "outputs": [],
   "source": [
    "class GaussSolver:\n",
    "    \n",
    "    __matrix = None\n",
    "    __b = None\n",
    "    __solution = []\n",
    "    __err = None\n",
    "    \n",
    "    \n",
    "    def __init__(self, matrix, b):\n",
    "        self.__matrix = matrix\n",
    "        self.__b = b\n",
    "\n",
    "    def _concatenate(self, A, b):\n",
    "        i = 0\n",
    "        for el in A:\n",
    "            el.append(b[i])\n",
    "            i += 1\n",
    "        return A\n",
    "    \n",
    "    \n",
    "    \n",
    "    def toString(self, A):\n",
    "        for a in A:\n",
    "            print('\\t','|', a, '|', '\\n')\n",
    "    \n",
    "    \n",
    "    def firstPrint(self):\n",
    "        print('Coefficients matrix: \\n')\n",
    "        self.toString(self.__matrix)\n",
    "        \n",
    "        print('Vector b: \\n')\n",
    "        self.toString(self.__b)            \n",
    "    \n",
    "    def linEqSolver(self):\n",
    "        \n",
    "        \"\"\"\n",
    "            Solve the linear equation Ax = b\n",
    "            Parameters\n",
    "            ------\n",
    "            __matrix : list of lists \n",
    "                       Coefficients matrix\n",
    "            __b : list \n",
    "                  Right-hand vector\n",
    "            \n",
    "            Returns\n",
    "            ------\n",
    "            X : list of equation solutions\n",
    "            error : integer\n",
    "                    code of the error\n",
    "                    -1 : error while executing the loop\n",
    "                    0  : everything all right\n",
    "        \"\"\"\n",
    "        \n",
    "        error = 0\n",
    "        M = copy.deepcopy(self.__matrix)\n",
    "        b = copy.deepcopy(self.__b)\n",
    "        A = self._concatenate(M, b)\n",
    "        \n",
    "        n = len(A)\n",
    "        m = len(A[0])\n",
    "        \n",
    "    \n",
    "        for i in range(0, n):\n",
    "            \n",
    "            # Find max value in the current column\n",
    "            maxEl = abs(A[i][i])\n",
    "            maxRow = i\n",
    "            for k in range(i+1, n):\n",
    "                if abs(A[k][i]) > maxEl:\n",
    "                    maxEl = abs(A[k][i])\n",
    "                    maxRow = k\n",
    "\n",
    "            # Swap max row with current row\n",
    "            for k in range(i, n+1):\n",
    "                temp = A[maxRow][k]\n",
    "                A[maxRow][k] = A[i][k]\n",
    "                A[i][k] = temp\n",
    "            \n",
    "            # Zero out the rows below the current column\n",
    "            for k in range(i+1, n):\n",
    "                if A[i][i] == 0:\n",
    "                    error = -i\n",
    "                    break\n",
    "                c = -A[k][i]/A[i][i]\n",
    "                for j in range(i, n+1):\n",
    "                    if i == j:\n",
    "                        A[k][j] = 0\n",
    "                    else:\n",
    "                        A[k][j] += c * A[i][j]\n",
    "            print('Matrix of coefficients after %s step of forward pass: '%str(i+1))\n",
    "            print('\\t')\n",
    "            self.toString(A)\n",
    "\n",
    "        # Find the roots for upper-triangular matrix\n",
    "        X = [0 for i in range(n)]\n",
    "        for i in range(n-1, -1, -1):\n",
    "            if A[i][i] == 0:\n",
    "                error = -i\n",
    "                break\n",
    "            X[i] = A[i][n]/A[i][i]\n",
    "            for k in range(i-1, -1, -1):\n",
    "                A[k][n] -= A[k][i] * X[i]\n",
    "        self.__solution = X\n",
    "        self.__err = error\n",
    "            \n",
    "    def verification(self, A, b):\n",
    "        X = np.linalg.solve(A, b)\n",
    "        return X\n",
    "    \n",
    "    def _r(self, A, x, b):\n",
    "        r = np.matmul(np.array(A), np.array(x)) - np.array(b)\n",
    "        return r\n",
    "    \n",
    "    def toStringAll(self):\n",
    "        \n",
    "        print('Matrix of coefficients:\\n')\n",
    "        self.toString(self.__matrix)\n",
    "        print('Right-hand vector: \\n')\n",
    "        self.toString(self.__b)\n",
    "        \n",
    "        print('Vector of solutions with Gauss class: \\n')\n",
    "        if self.__err != 0:\n",
    "            print('Error code is %i. Matrix could be singular or it could be zero division error'%self.__err)\n",
    "        else:\n",
    "            self.toString(self.__solution)\n",
    "            print('Code of error: %i'%self.__err)\n",
    "        \n",
    "            print('\\nVerification with NumPy: \\n')\n",
    "            self.toString(self.verification(np.array(self.__matrix), np.array(self.__b)))\n",
    "        \n",
    "            print('\\nCheck Ax - b = r \\n')\n",
    "            self.toString(self._r(self.__matrix, self.__solution, self.__b))\n",
    "    \n",
    "    "
   ]
  },
  {
   "cell_type": "markdown",
   "metadata": {},
   "source": [
    "## Data initialization"
   ]
  },
  {
   "cell_type": "code",
   "execution_count": 25,
   "metadata": {
    "collapsed": true
   },
   "outputs": [],
   "source": [
    "a_2 = [[-7,-6,-6, 6],\n",
    "     [7,6,8,-13],\n",
    "     [4,17,-16, 10],\n",
    "      [-5, 18, 19, 0]]\n",
    "b_2 = [144,-170,21, -445]\n",
    "\n",
    "a_1 = [[2,2,-1,1],\n",
    "      [-3,0,3,0],\n",
    "      [-1,3,3,2],\n",
    "      [1,0,0,4]]\n",
    "b_1 = [3,-9,-7,4]\n",
    "\n",
    "a_3 = [[-2, 4, 7],\n",
    "      [-7, -6, -6],\n",
    "        [11, -2, -8]]\n",
    "b_3 = [42, 7, -91]"
   ]
  },
  {
   "cell_type": "markdown",
   "metadata": {},
   "source": [
    "## Objects instantiation"
   ]
  },
  {
   "cell_type": "code",
   "execution_count": 41,
   "metadata": {
    "collapsed": true
   },
   "outputs": [],
   "source": [
    "gauss1 = GaussSolver(a_1, b_1)\n",
    "gauss2 = GaussSolver(a_2, b_2)\n",
    "gauss3 = GaussSolver(a_3, b_3)"
   ]
  },
  {
   "cell_type": "markdown",
   "metadata": {},
   "source": [
    "## Solving first matrix"
   ]
  },
  {
   "cell_type": "code",
   "execution_count": 27,
   "metadata": {},
   "outputs": [
    {
     "name": "stdout",
     "output_type": "stream",
     "text": [
      "Coefficients matrix: \n",
      "\n",
      "\t | [2, 2, -1, 1] | \n",
      "\n",
      "\t | [-3, 0, 3, 0] | \n",
      "\n",
      "\t | [-1, 3, 3, 2] | \n",
      "\n",
      "\t | [1, 0, 0, 4] | \n",
      "\n",
      "Vector b: \n",
      "\n",
      "\t | 3 | \n",
      "\n",
      "\t | -9 | \n",
      "\n",
      "\t | -7 | \n",
      "\n",
      "\t | 4 | \n",
      "\n"
     ]
    }
   ],
   "source": [
    "gauss1.firstPrint()"
   ]
  },
  {
   "cell_type": "code",
   "execution_count": 28,
   "metadata": {},
   "outputs": [
    {
     "name": "stdout",
     "output_type": "stream",
     "text": [
      "Matrix of coefficients after 1 step of forward pass: \n",
      "\t\n",
      "\t | [-3, 0, 3, 0, -9] | \n",
      "\n",
      "\t | [0, 2.0, 1.0, 1.0, -3.0] | \n",
      "\n",
      "\t | [0, 3.0, 2.0, 2.0, -4.0] | \n",
      "\n",
      "\t | [0, 0.0, 1.0, 4.0, 1.0] | \n",
      "\n",
      "Matrix of coefficients after 2 step of forward pass: \n",
      "\t\n",
      "\t | [-3, 0, 3, 0, -9] | \n",
      "\n",
      "\t | [0, 3.0, 2.0, 2.0, -4.0] | \n",
      "\n",
      "\t | [0, 0, -0.33333333333333326, -0.33333333333333326, -0.3333333333333335] | \n",
      "\n",
      "\t | [0, 0, 1.0, 4.0, 1.0] | \n",
      "\n",
      "Matrix of coefficients after 3 step of forward pass: \n",
      "\t\n",
      "\t | [-3, 0, 3, 0, -9] | \n",
      "\n",
      "\t | [0, 3.0, 2.0, 2.0, -4.0] | \n",
      "\n",
      "\t | [0, 0, 1.0, 4.0, 1.0] | \n",
      "\n",
      "\t | [0, 0, 0, 0.9999999999999998, -2.220446049250313e-16] | \n",
      "\n",
      "Matrix of coefficients after 4 step of forward pass: \n",
      "\t\n",
      "\t | [-3, 0, 3, 0, -9] | \n",
      "\n",
      "\t | [0, 3.0, 2.0, 2.0, -4.0] | \n",
      "\n",
      "\t | [0, 0, 1.0, 4.0, 1.0] | \n",
      "\n",
      "\t | [0, 0, 0, 0.9999999999999998, -2.220446049250313e-16] | \n",
      "\n"
     ]
    }
   ],
   "source": [
    "gauss1.linEqSolver()"
   ]
  },
  {
   "cell_type": "code",
   "execution_count": 30,
   "metadata": {},
   "outputs": [
    {
     "name": "stdout",
     "output_type": "stream",
     "text": [
      "Matrix of coefficients:\n",
      "\n",
      "\t | [2, 2, -1, 1] | \n",
      "\n",
      "\t | [-3, 0, 3, 0] | \n",
      "\n",
      "\t | [-1, 3, 3, 2] | \n",
      "\n",
      "\t | [1, 0, 0, 4] | \n",
      "\n",
      "Right-hand vector: \n",
      "\n",
      "\t | 3 | \n",
      "\n",
      "\t | -9 | \n",
      "\n",
      "\t | -7 | \n",
      "\n",
      "\t | 4 | \n",
      "\n",
      "Vector of solutions with Gauss class: \n",
      "\n",
      "\t | 4.000000000000001 | \n",
      "\n",
      "\t | -2.0000000000000004 | \n",
      "\n",
      "\t | 1.0000000000000009 | \n",
      "\n",
      "\t | -2.2204460492503136e-16 | \n",
      "\n",
      "Code of error: 0\n",
      "\n",
      "Verification with NumPy: \n",
      "\n",
      "\t | 4.0 | \n",
      "\n",
      "\t | -2.0 | \n",
      "\n",
      "\t | 1.0000000000000004 | \n",
      "\n",
      "\t | -1.1102230246251563e-16 | \n",
      "\n",
      "\n",
      "Check Ax - b = r \n",
      "\n",
      "\t | 0.0 | \n",
      "\n",
      "\t | 0.0 | \n",
      "\n",
      "\t | -8.881784197001252e-16 | \n",
      "\n",
      "\t | 0.0 | \n",
      "\n"
     ]
    }
   ],
   "source": [
    "gauss1.toStringAll()"
   ]
  },
  {
   "cell_type": "markdown",
   "metadata": {},
   "source": [
    "## Solving second matrix"
   ]
  },
  {
   "cell_type": "code",
   "execution_count": 31,
   "metadata": {},
   "outputs": [
    {
     "name": "stdout",
     "output_type": "stream",
     "text": [
      "Coefficients matrix: \n",
      "\n",
      "\t | [-7, -6, -6, 6] | \n",
      "\n",
      "\t | [7, 6, 8, -13] | \n",
      "\n",
      "\t | [4, 17, -16, 10] | \n",
      "\n",
      "\t | [-5, 18, 19, 0] | \n",
      "\n",
      "Vector b: \n",
      "\n",
      "\t | 144 | \n",
      "\n",
      "\t | -170 | \n",
      "\n",
      "\t | 21 | \n",
      "\n",
      "\t | -445 | \n",
      "\n"
     ]
    }
   ],
   "source": [
    "gauss2.firstPrint()"
   ]
  },
  {
   "cell_type": "code",
   "execution_count": 32,
   "metadata": {},
   "outputs": [
    {
     "name": "stdout",
     "output_type": "stream",
     "text": [
      "Matrix of coefficients after 1 step of forward pass: \n",
      "\t\n",
      "\t | [-7, -6, -6, 6, 144] | \n",
      "\n",
      "\t | [0, 0.0, 2.0, -7.0, -26.0] | \n",
      "\n",
      "\t | [0, 13.571428571428571, -19.428571428571427, 13.428571428571429, 103.28571428571428] | \n",
      "\n",
      "\t | [0, 22.285714285714285, 23.285714285714285, -4.285714285714286, -547.8571428571429] | \n",
      "\n",
      "Matrix of coefficients after 2 step of forward pass: \n",
      "\t\n",
      "\t | [-7, -6, -6, 6, 144] | \n",
      "\n",
      "\t | [0, 22.285714285714285, 23.285714285714285, -4.285714285714286, -547.8571428571429] | \n",
      "\n",
      "\t | [0, 0, -33.60897435897436, 16.03846153846154, 436.9166666666667] | \n",
      "\n",
      "\t | [0, 0, 2.0, -7.0, -26.0] | \n",
      "\n",
      "Matrix of coefficients after 3 step of forward pass: \n",
      "\t\n",
      "\t | [-7, -6, -6, 6, 144] | \n",
      "\n",
      "\t | [0, 22.285714285714285, 23.285714285714285, -4.285714285714286, -547.8571428571429] | \n",
      "\n",
      "\t | [0, 0, -33.60897435897436, 16.03846153846154, 436.9166666666667] | \n",
      "\n",
      "\t | [0, 0, 0, -6.045584588975777, 0.0] | \n",
      "\n",
      "Matrix of coefficients after 4 step of forward pass: \n",
      "\t\n",
      "\t | [-7, -6, -6, 6, 144] | \n",
      "\n",
      "\t | [0, 22.285714285714285, 23.285714285714285, -4.285714285714286, -547.8571428571429] | \n",
      "\n",
      "\t | [0, 0, -33.60897435897436, 16.03846153846154, 436.9166666666667] | \n",
      "\n",
      "\t | [0, 0, 0, -6.045584588975777, 0.0] | \n",
      "\n"
     ]
    }
   ],
   "source": [
    "gauss2.linEqSolver()"
   ]
  },
  {
   "cell_type": "code",
   "execution_count": 33,
   "metadata": {},
   "outputs": [
    {
     "name": "stdout",
     "output_type": "stream",
     "text": [
      "Matrix of coefficients:\n",
      "\n",
      "\t | [-7, -6, -6, 6] | \n",
      "\n",
      "\t | [7, 6, 8, -13] | \n",
      "\n",
      "\t | [4, 17, -16, 10] | \n",
      "\n",
      "\t | [-5, 18, 19, 0] | \n",
      "\n",
      "Right-hand vector: \n",
      "\n",
      "\t | 144 | \n",
      "\n",
      "\t | -170 | \n",
      "\n",
      "\t | 21 | \n",
      "\n",
      "\t | -445 | \n",
      "\n",
      "Vector of solutions with Gauss class: \n",
      "\n",
      "\t | 4.0602442043434294e-15 | \n",
      "\n",
      "\t | -11.000000000000002 | \n",
      "\n",
      "\t | -13.000000000000002 | \n",
      "\n",
      "\t | -0.0 | \n",
      "\n",
      "Code of error: 0\n",
      "\n",
      "Verification with NumPy: \n",
      "\n",
      "\t | 2.0301221021717147e-15 | \n",
      "\n",
      "\t | -11.000000000000004 | \n",
      "\n",
      "\t | -12.999999999999998 | \n",
      "\n",
      "\t | 5.876542833060235e-16 | \n",
      "\n",
      "\n",
      "Check Ax - b = r \n",
      "\n",
      "\t | 0.0 | \n",
      "\n",
      "\t | 0.0 | \n",
      "\n",
      "\t | 2.842170943040401e-14 | \n",
      "\n",
      "\t | -1.1368683772161603e-13 | \n",
      "\n"
     ]
    }
   ],
   "source": [
    "gauss2.toStringAll()"
   ]
  },
  {
   "cell_type": "markdown",
   "metadata": {},
   "source": [
    "## Solving third matrix"
   ]
  },
  {
   "cell_type": "code",
   "execution_count": 34,
   "metadata": {},
   "outputs": [
    {
     "name": "stdout",
     "output_type": "stream",
     "text": [
      "Coefficients matrix: \n",
      "\n",
      "\t | [-2, 4, 7] | \n",
      "\n",
      "\t | [-7, -6, -6] | \n",
      "\n",
      "\t | [11, -2, -8] | \n",
      "\n",
      "Vector b: \n",
      "\n",
      "\t | 42 | \n",
      "\n",
      "\t | 7 | \n",
      "\n",
      "\t | -91 | \n",
      "\n"
     ]
    }
   ],
   "source": [
    "gauss3.firstPrint()"
   ]
  },
  {
   "cell_type": "code",
   "execution_count": 43,
   "metadata": {},
   "outputs": [
    {
     "name": "stdout",
     "output_type": "stream",
     "text": [
      "Matrix of coefficients after 1 step of forward pass: \n",
      "\t\n",
      "\t | [11, -2, -8, -91] | \n",
      "\n",
      "\t | [0, -7.2727272727272725, -11.09090909090909, -50.90909090909091] | \n",
      "\n",
      "\t | [0, 3.6363636363636362, 5.545454545454545, 25.454545454545453] | \n",
      "\n",
      "Matrix of coefficients after 2 step of forward pass: \n",
      "\t\n",
      "\t | [11, -2, -8, -91] | \n",
      "\n",
      "\t | [0, -7.2727272727272725, -11.09090909090909, -50.90909090909091] | \n",
      "\n",
      "\t | [0, 0, 0.0, 0.0] | \n",
      "\n",
      "Matrix of coefficients after 3 step of forward pass: \n",
      "\t\n",
      "\t | [11, -2, -8, -91] | \n",
      "\n",
      "\t | [0, -7.2727272727272725, -11.09090909090909, -50.90909090909091] | \n",
      "\n",
      "\t | [0, 0, 0.0, 0.0] | \n",
      "\n"
     ]
    }
   ],
   "source": [
    "gauss3.linEqSolver()"
   ]
  },
  {
   "cell_type": "code",
   "execution_count": 44,
   "metadata": {},
   "outputs": [
    {
     "name": "stdout",
     "output_type": "stream",
     "text": [
      "Matrix of coefficients:\n",
      "\n",
      "\t | [-2, 4, 7] | \n",
      "\n",
      "\t | [-7, -6, -6] | \n",
      "\n",
      "\t | [11, -2, -8] | \n",
      "\n",
      "Right-hand vector: \n",
      "\n",
      "\t | 42 | \n",
      "\n",
      "\t | 7 | \n",
      "\n",
      "\t | -91 | \n",
      "\n",
      "Vector of solutions with Gauss class: \n",
      "\n",
      "Error code is -2. System could have more than one solution or it could be zero division error\n"
     ]
    }
   ],
   "source": [
    "gauss3.toStringAll()"
   ]
  },
  {
   "cell_type": "code",
   "execution_count": null,
   "metadata": {
    "collapsed": true
   },
   "outputs": [],
   "source": []
  }
 ],
 "metadata": {
  "kernelspec": {
   "display_name": "Python 3",
   "language": "python",
   "name": "python3"
  },
  "language_info": {
   "codemirror_mode": {
    "name": "ipython",
    "version": 3
   },
   "file_extension": ".py",
   "mimetype": "text/x-python",
   "name": "python",
   "nbconvert_exporter": "python",
   "pygments_lexer": "ipython3",
   "version": "3.6.2"
  }
 },
 "nbformat": 4,
 "nbformat_minor": 2
}
