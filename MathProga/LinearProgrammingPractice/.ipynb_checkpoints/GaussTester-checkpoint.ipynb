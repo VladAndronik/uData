{
 "cells": [
  {
   "cell_type": "code",
   "execution_count": 16,
   "metadata": {
    "collapsed": true
   },
   "outputs": [],
   "source": [
    "import gaussLab\n",
    "from gaussLab import GaussSolver\n",
    "import copy\n",
    "import numpy as np"
   ]
  },
  {
   "cell_type": "markdown",
   "metadata": {},
   "source": [
    "## Data specification"
   ]
  },
  {
   "cell_type": "code",
   "execution_count": 23,
   "metadata": {
    "collapsed": true
   },
   "outputs": [],
   "source": [
    "a_2 = [[-7,-6,-6, 6],\n",
    "     [7,6,8,-13],\n",
    "     [4,17,-16, 10],\n",
    "      [-5, 18, 19, 0]]\n",
    "b_2 = [144,-170,21, -445]\n",
    "\n",
    "a_1 = [[2,2,-1,1],\n",
    "      [-3,0,3,0],\n",
    "      [-1,3,3,2],\n",
    "      [1,0,0,4]]\n",
    "b_1 = [3,-9,-7,4]\n",
    "\n",
    "a_3 = [[-2, 4, 7],\n",
    "      [-7, -6, -6],\n",
    "        [11, -2, -8]]\n",
    "b_3 = [42, 7, -91]"
   ]
  },
  {
   "cell_type": "markdown",
   "metadata": {},
   "source": [
    "## Object instanstiation"
   ]
  },
  {
   "cell_type": "code",
   "execution_count": 26,
   "metadata": {},
   "outputs": [],
   "source": [
    "gauss1 = GaussSolver(a_1, b_1)\n",
    "gauss2 = GaussSolver(a_2, b_2)\n",
    "gauss3 = GaussSolver(a_3, b_3)"
   ]
  },
  {
   "cell_type": "markdown",
   "metadata": {},
   "source": [
    "## First matrix"
   ]
  },
  {
   "cell_type": "code",
   "execution_count": 27,
   "metadata": {},
   "outputs": [
    {
     "name": "stdout",
     "output_type": "stream",
     "text": [
      "Matrix of coefficients after 1 step of forward pass: \n",
      "\t\n",
      "\t | [-3, 0, 3, 0, -9] | \n",
      "\n",
      "\t | [0, 2.0, 1.0, 1.0, -3.0] | \n",
      "\n",
      "\t | [0, 3.0, 2.0, 2.0, -4.0] | \n",
      "\n",
      "\t | [0, 0.0, 1.0, 4.0, 1.0] | \n",
      "\n",
      "Matrix of coefficients after 2 step of forward pass: \n",
      "\t\n",
      "\t | [-3, 0, 3, 0, -9] | \n",
      "\n",
      "\t | [0, 3.0, 2.0, 2.0, -4.0] | \n",
      "\n",
      "\t | [0, 0, -0.33333333333333326, -0.33333333333333326, -0.3333333333333335] | \n",
      "\n",
      "\t | [0, 0, 1.0, 4.0, 1.0] | \n",
      "\n",
      "Matrix of coefficients after 3 step of forward pass: \n",
      "\t\n",
      "\t | [-3, 0, 3, 0, -9] | \n",
      "\n",
      "\t | [0, 3.0, 2.0, 2.0, -4.0] | \n",
      "\n",
      "\t | [0, 0, 1.0, 4.0, 1.0] | \n",
      "\n",
      "\t | [0, 0, 0, 0.9999999999999998, -2.220446049250313e-16] | \n",
      "\n",
      "Matrix of coefficients after 4 step of forward pass: \n",
      "\t\n",
      "\t | [-3, 0, 3, 0, -9] | \n",
      "\n",
      "\t | [0, 3.0, 2.0, 2.0, -4.0] | \n",
      "\n",
      "\t | [0, 0, 1.0, 4.0, 1.0] | \n",
      "\n",
      "\t | [0, 0, 0, 0.9999999999999998, -2.220446049250313e-16] | \n",
      "\n"
     ]
    },
    {
     "data": {
      "text/plain": [
       "([4.000000000000001,\n",
       "  -2.0000000000000004,\n",
       "  1.0000000000000009,\n",
       "  -2.2204460492503136e-16],\n",
       " 0)"
      ]
     },
     "execution_count": 27,
     "metadata": {},
     "output_type": "execute_result"
    }
   ],
   "source": [
    "gauss1.linEqSolver()"
   ]
  },
  {
   "cell_type": "code",
   "execution_count": 20,
   "metadata": {},
   "outputs": [
    {
     "name": "stdout",
     "output_type": "stream",
     "text": [
      "Matrix of coefficients:\n",
      "\n",
      "\t | [13, -5, -12] | \n",
      "\n",
      "\t | [-12, 5, 0] | \n",
      "\n",
      "\t | [4, -1, -22] | \n",
      "\n",
      "Right-hand vector: \n",
      "\n",
      "\t | 33 | \n",
      "\n",
      "\t | -19 | \n",
      "\n",
      "\t | 29 | \n",
      "\n",
      "Vector of solutions with Gauss class: \n",
      "\n",
      "\t | 2.0000000000000147 | \n",
      "\n",
      "\t | 1.000000000000036 | \n",
      "\n",
      "\t | -0.9999999999999991 | \n",
      "\n",
      "Code of error: 0\n",
      "\n",
      "Verification with NumPy: \n",
      "\n",
      "\t | 2.0000000000000147 | \n",
      "\n",
      "\t | 1.0000000000000357 | \n",
      "\n",
      "\t | -0.9999999999999991 | \n",
      "\n",
      "\n",
      "Check Ax - b = r \n",
      "\n",
      "\t | 0.0 | \n",
      "\n",
      "\t | 0.0 | \n",
      "\n",
      "\t | 3.552713678800501e-15 | \n",
      "\n"
     ]
    }
   ],
   "source": [
    "gauss.toStringAll()"
   ]
  },
  {
   "cell_type": "code",
   "execution_count": 9,
   "metadata": {},
   "outputs": [],
   "source": [
    "!echo \"a=5\\nprint(a)\" > dot.py"
   ]
  },
  {
   "cell_type": "code",
   "execution_count": 10,
   "metadata": {},
   "outputs": [
    {
     "name": "stdout",
     "output_type": "stream",
     "text": [
      "5\n"
     ]
    }
   ],
   "source": [
    "%run dot.py"
   ]
  },
  {
   "cell_type": "code",
   "execution_count": null,
   "metadata": {
    "collapsed": true
   },
   "outputs": [],
   "source": []
  }
 ],
 "metadata": {
  "kernelspec": {
   "display_name": "Python 3",
   "language": "python",
   "name": "python3"
  },
  "language_info": {
   "codemirror_mode": {
    "name": "ipython",
    "version": 3
   },
   "file_extension": ".py",
   "mimetype": "text/x-python",
   "name": "python",
   "nbconvert_exporter": "python",
   "pygments_lexer": "ipython3",
   "version": "3.6.2"
  }
 },
 "nbformat": 4,
 "nbformat_minor": 2
}
